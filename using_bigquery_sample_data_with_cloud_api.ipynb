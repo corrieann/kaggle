{
  "nbformat": 4,
  "nbformat_minor": 0,
  "metadata": {
    "colab": {
      "name": "Using BigQuery with Cloud API",
      "version": "0.3.2",
      "provenance": [],
      "include_colab_link": true
    },
    "kernelspec": {
      "name": "python3",
      "display_name": "Python 3"
    }
  },
  "cells": [
    {
      "cell_type": "markdown",
      "metadata": {
        "id": "view-in-github",
        "colab_type": "text"
      },
      "source": [
        "<a href=\"https://colab.research.google.com/github/corrieann/kaggle/blob/master/using_bigquery_sample_data_with_cloud_api.ipynb\" target=\"_parent\"><img src=\"https://colab.research.google.com/assets/colab-badge.svg\" alt=\"Open In Colab\"/></a>"
      ]
    },
    {
      "metadata": {
        "colab_type": "text",
        "id": "HeZN5bOEl2iI"
      },
      "cell_type": "markdown",
      "source": [
        "# Using BigQuery with Cloud API\n",
        "\n",
        "\n",
        "1.   Use the [Cloud Resource Manager](https://console.cloud.google.com/cloud-resource-manager) to Create a Cloud Platform project if you do not already have one.\n",
        "2.   [Enable billing](https://support.google.com/cloud/answer/6293499#enable-billing) for the project.\n",
        "3.   [Enable BigQuery](https://console.cloud.google.com/flows/enableapi?apiid=bigquery) APIs for the project.\n",
        "\n",
        "[BigQuery Documentation](https://googlecloudplatform.github.io/google-cloud-python/latest/bigquery/usage.html)"
      ]
    },
    {
      "metadata": {
        "id": "ICgzuOASvN3u",
        "colab_type": "code",
        "colab": {}
      },
      "cell_type": "code",
      "source": [
        "from google.colab import auth\n",
        "auth.authenticate_user()"
      ],
      "execution_count": 0,
      "outputs": []
    },
    {
      "metadata": {
        "id": "3ujkxibfvab-",
        "colab_type": "code",
        "colab": {}
      },
      "cell_type": "code",
      "source": [
        "from google.cloud import bigquery\n",
        "\n",
        "project_id = 'YOUR Cloud Platform Project ID'  # This needs to be YOUR Cloud Platform Project (see step 1 above)\n",
        "client = bigquery.Client(project=project_id)\n"
      ],
      "execution_count": 0,
      "outputs": []
    },
    {
      "metadata": {
        "id": "ohhqskHyvwf8",
        "colab_type": "code",
        "colab": {}
      },
      "cell_type": "code",
      "source": [
        "query = \"SELECT size FROM `bigquery-public-data.github_repos.contents` WHERE binary = True LIMIT 5000\"\n",
        "query_job = client.query(\n",
        "    query,    \n",
        ")\n",
        "\n",
        "query_job.result()  # Waits for the query to finish\n",
        "for row in query_job:\n",
        "  print(row)"
      ],
      "execution_count": 0,
      "outputs": []
    }
  ]
}
