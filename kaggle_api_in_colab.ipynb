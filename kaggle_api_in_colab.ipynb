{
  "nbformat": 4,
  "nbformat_minor": 0,
  "metadata": {
    "colab": {
      "name": "How to use the Kaggle API from Colab",
      "version": "0.3.2",
      "provenance": [],
      "collapsed_sections": [],
      "include_colab_link": true
    },
    "kernelspec": {
      "name": "python3",
      "display_name": "Python 3"
    }
  },
  "cells": [
    {
      "cell_type": "markdown",
      "metadata": {
        "id": "view-in-github",
        "colab_type": "text"
      },
      "source": [
        "[View in Colaboratory](https://colab.research.google.com/github/corrieann/kaggle/blob/master/kaggle_api_in_colab.ipynb)"
      ]
    },
    {
      "metadata": {
        "id": "DIf2PtekjPtY",
        "colab_type": "text"
      },
      "cell_type": "markdown",
      "source": [
        "## Installing the [Kaggle API](https://github.com/Kaggle/kaggle-api) in Colab"
      ]
    },
    {
      "metadata": {
        "id": "OppyMnCuWjzJ",
        "colab_type": "code",
        "colab": {}
      },
      "cell_type": "code",
      "source": [
        "!pip install kaggle"
      ],
      "execution_count": 0,
      "outputs": []
    },
    {
      "metadata": {
        "id": "hMY4CFezjcG-",
        "colab_type": "text"
      },
      "cell_type": "markdown",
      "source": [
        "## Authenticating with Kaggle using kaggle.json\n",
        "\n",
        "Navigate to https://www.kaggle.com. Then go to the Account tab of your user profile and select Create API Token. This will trigger the download of kaggle.json, a file containing your API credentials.\n",
        "\n",
        "Then run the cell below to upload kaggle.json to your Colab runtime."
      ]
    },
    {
      "metadata": {
        "id": "0HtGf0HEXEa5",
        "colab_type": "code",
        "colab": {}
      },
      "cell_type": "code",
      "source": [
        "from google.colab import files\n",
        "\n",
        "uploaded = files.upload()\n",
        "\n",
        "for fn in uploaded.keys():\n",
        "  print('User uploaded file \"{name}\" with length {length} bytes'.format(\n",
        "      name=fn, length=len(uploaded[fn])))"
      ],
      "execution_count": 0,
      "outputs": []
    },
    {
      "metadata": {
        "id": "PF5s9h4kjuKD",
        "colab_type": "text"
      },
      "cell_type": "markdown",
      "source": [
        "And then move `kaggle.json` into the folder where the API expects to find it."
      ]
    },
    {
      "metadata": {
        "id": "zUeJbuXIYtkx",
        "colab_type": "code",
        "colab": {}
      },
      "cell_type": "code",
      "source": [
        "# The API looks for `kaggle.json` in `~/.kaggle/`.\n",
        "!mkdir -p ~/.kaggle/ && mv kaggle.json ~/.kaggle/"
      ],
      "execution_count": 0,
      "outputs": []
    },
    {
      "metadata": {
        "id": "WE8sVvi2iN4C",
        "colab_type": "text"
      },
      "cell_type": "markdown",
      "source": [
        "... and everything past this point is just using the Kaggle API.  For a more complete list of what you can do with the API, visit https://github.com/Kaggle/kaggle-api."
      ]
    },
    {
      "metadata": {
        "id": "SHVqmMXfilWG",
        "colab_type": "text"
      },
      "cell_type": "markdown",
      "source": [
        "## Listing competitions"
      ]
    },
    {
      "metadata": {
        "id": "Oqt7Yfi5aQuM",
        "colab_type": "code",
        "colab": {
          "base_uri": "https://localhost:8080/",
          "height": 391
        },
        "outputId": "3039a0fc-6659-45de-9c73-4cd3b7609689"
      },
      "cell_type": "code",
      "source": [
        "!kaggle competitions list"
      ],
      "execution_count": 0,
      "outputs": [
        {
          "output_type": "stream",
          "text": [
            "ref                                            deadline             category             reward  teamCount  userHasEntered  \n",
            "---------------------------------------------  -------------------  ---------------  ----------  ---------  --------------  \n",
            "digit-recognizer                               2030-01-01 00:00:00  Getting Started   Knowledge       2568           False  \n",
            "titanic                                        2030-01-01 00:00:00  Getting Started   Knowledge       9728            True  \n",
            "house-prices-advanced-regression-techniques    2030-01-01 00:00:00  Getting Started   Knowledge       4070           False  \n",
            "imagenet-object-localization-challenge         2029-12-31 07:00:00  Research          Knowledge         26           False  \n",
            "pubg-finish-placement-prediction               2019-01-30 23:59:00  Playground             Swag         53           False  \n",
            "zillow-prize-2                                 2019-01-16 06:59:00  Featured         $1,150,000         40           False  \n",
            "human-protein-atlas-image-classification       2019-01-10 23:59:00  Featured            $37,000         65           False  \n",
            "two-sigma-financial-news                       2019-01-08 23:59:00  Featured           $100,000        531           False  \n",
            "competitive-data-science-predict-future-sales  2019-01-01 23:59:00  Playground            Kudos       1532           False  \n",
            "PLAsTiCC-2018                                  2018-12-17 23:59:00  Featured            $25,000        137           False  \n",
            "quickdraw-doodle-recognition                   2018-12-04 23:59:00  Featured            $25,000        182           False  \n",
            "ga-customer-revenue-prediction                 2018-11-15 23:59:00  Featured            $45,000       2012           False  \n",
            "airbus-ship-detection                          2018-11-14 23:59:00  Featured            $60,000        956           False  \n",
            "inclusive-images-challenge                     2018-11-05 23:59:00  Research            $25,000        331           False  \n",
            "rsna-pneumonia-detection-challenge             2018-10-24 23:59:00  Featured            $30,000       1150           False  \n",
            "tgs-salt-identification-challenge              2018-10-19 23:59:00  Featured           $100,000       3047           False  \n",
            "new-york-city-taxi-fare-prediction             2018-09-25 23:59:00  Playground        Knowledge       1488           False  \n",
            "forest-cover-type-kernels-only                 2018-09-24 23:59:00  Playground        Knowledge        359           False  \n",
            "demand-forecasting-kernels-only                2018-09-24 23:59:00  Playground        Knowledge        462           False  \n",
            "whats-cooking-kernels-only                     2018-09-24 23:59:00  Playground        Knowledge        523           False  \n"
          ],
          "name": "stdout"
        }
      ]
    },
    {
      "metadata": {
        "id": "dNke00r6ig3h",
        "colab_type": "text"
      },
      "cell_type": "markdown",
      "source": [
        "## Downloading a dataset"
      ]
    },
    {
      "metadata": {
        "id": "Aojvqv8Gaf8I",
        "colab_type": "code",
        "colab": {}
      },
      "cell_type": "code",
      "source": [
        "!kaggle datasets download \"center-for-policing-equity/data-science-for-good\""
      ],
      "execution_count": 0,
      "outputs": []
    },
    {
      "metadata": {
        "id": "DsyV01gDaxls",
        "colab_type": "code",
        "colab": {}
      },
      "cell_type": "code",
      "source": [
        "!unzip data-science-for-good.zip"
      ],
      "execution_count": 0,
      "outputs": []
    },
    {
      "metadata": {
        "id": "L7ZmFbHybsPk",
        "colab_type": "code",
        "colab": {
          "base_uri": "https://localhost:8080/",
          "height": 491
        },
        "outputId": "f5fc68d7-a3e7-4a4e-9f61-10de044244b1"
      },
      "cell_type": "code",
      "source": [
        "import pandas as pd \n",
        "\n",
        "basepath = \"Dept_23-00089/23-00089_ACS_data/23-00089_ACS_race-sex-age/\"\n",
        "rca_df = pd.read_csv(basepath + \"ACS_15_5YR_DP05_with_ann.csv\")\n",
        "rca_df.head()"
      ],
      "execution_count": 0,
      "outputs": [
        {
          "output_type": "execute_result",
          "data": {
            "text/html": [
              "<div>\n",
              "<style scoped>\n",
              "    .dataframe tbody tr th:only-of-type {\n",
              "        vertical-align: middle;\n",
              "    }\n",
              "\n",
              "    .dataframe tbody tr th {\n",
              "        vertical-align: top;\n",
              "    }\n",
              "\n",
              "    .dataframe thead th {\n",
              "        text-align: right;\n",
              "    }\n",
              "</style>\n",
              "<table border=\"1\" class=\"dataframe\">\n",
              "  <thead>\n",
              "    <tr style=\"text-align: right;\">\n",
              "      <th></th>\n",
              "      <th>GEO.id</th>\n",
              "      <th>GEO.id2</th>\n",
              "      <th>GEO.display-label</th>\n",
              "      <th>HC01_VC03</th>\n",
              "      <th>HC02_VC03</th>\n",
              "      <th>HC03_VC03</th>\n",
              "      <th>HC04_VC03</th>\n",
              "      <th>HC01_VC04</th>\n",
              "      <th>HC02_VC04</th>\n",
              "      <th>HC03_VC04</th>\n",
              "      <th>...</th>\n",
              "      <th>HC03_VC108</th>\n",
              "      <th>HC04_VC108</th>\n",
              "      <th>HC01_VC109</th>\n",
              "      <th>HC02_VC109</th>\n",
              "      <th>HC03_VC109</th>\n",
              "      <th>HC04_VC109</th>\n",
              "      <th>HC01_VC110</th>\n",
              "      <th>HC02_VC110</th>\n",
              "      <th>HC03_VC110</th>\n",
              "      <th>HC04_VC110</th>\n",
              "    </tr>\n",
              "  </thead>\n",
              "  <tbody>\n",
              "    <tr>\n",
              "      <th>0</th>\n",
              "      <td>Id</td>\n",
              "      <td>Id2</td>\n",
              "      <td>Geography</td>\n",
              "      <td>Estimate; SEX AND AGE - Total population</td>\n",
              "      <td>Margin of Error; SEX AND AGE - Total population</td>\n",
              "      <td>Percent; SEX AND AGE - Total population</td>\n",
              "      <td>Percent Margin of Error; SEX AND AGE - Total p...</td>\n",
              "      <td>Estimate; SEX AND AGE - Total population - Male</td>\n",
              "      <td>Margin of Error; SEX AND AGE - Total populatio...</td>\n",
              "      <td>Percent; SEX AND AGE - Total population - Male</td>\n",
              "      <td>...</td>\n",
              "      <td>Percent; CITIZEN, VOTING AGE POPULATION - Citi...</td>\n",
              "      <td>Percent Margin of Error; CITIZEN, VOTING AGE P...</td>\n",
              "      <td>Estimate; CITIZEN, VOTING AGE POPULATION - Cit...</td>\n",
              "      <td>Margin of Error; CITIZEN, VOTING AGE POPULATIO...</td>\n",
              "      <td>Percent; CITIZEN, VOTING AGE POPULATION - Citi...</td>\n",
              "      <td>Percent Margin of Error; CITIZEN, VOTING AGE P...</td>\n",
              "      <td>Estimate; CITIZEN, VOTING AGE POPULATION - Cit...</td>\n",
              "      <td>Margin of Error; CITIZEN, VOTING AGE POPULATIO...</td>\n",
              "      <td>Percent; CITIZEN, VOTING AGE POPULATION - Citi...</td>\n",
              "      <td>Percent Margin of Error; CITIZEN, VOTING AGE P...</td>\n",
              "    </tr>\n",
              "    <tr>\n",
              "      <th>1</th>\n",
              "      <td>1400000US18097310103</td>\n",
              "      <td>18097310103</td>\n",
              "      <td>Census Tract 3101.03, Marion County, Indiana</td>\n",
              "      <td>6700</td>\n",
              "      <td>435</td>\n",
              "      <td>6700</td>\n",
              "      <td>(X)</td>\n",
              "      <td>3167</td>\n",
              "      <td>419</td>\n",
              "      <td>47.3</td>\n",
              "      <td>...</td>\n",
              "      <td>4881</td>\n",
              "      <td>(X)</td>\n",
              "      <td>2167</td>\n",
              "      <td>208</td>\n",
              "      <td>44.4</td>\n",
              "      <td>3.3</td>\n",
              "      <td>2714</td>\n",
              "      <td>234</td>\n",
              "      <td>55.6</td>\n",
              "      <td>3.3</td>\n",
              "    </tr>\n",
              "    <tr>\n",
              "      <th>2</th>\n",
              "      <td>1400000US18097310104</td>\n",
              "      <td>18097310104</td>\n",
              "      <td>Census Tract 3101.04, Marion County, Indiana</td>\n",
              "      <td>3309</td>\n",
              "      <td>283</td>\n",
              "      <td>3309</td>\n",
              "      <td>(X)</td>\n",
              "      <td>1374</td>\n",
              "      <td>217</td>\n",
              "      <td>41.5</td>\n",
              "      <td>...</td>\n",
              "      <td>2988</td>\n",
              "      <td>(X)</td>\n",
              "      <td>1179</td>\n",
              "      <td>194</td>\n",
              "      <td>39.5</td>\n",
              "      <td>6.2</td>\n",
              "      <td>1809</td>\n",
              "      <td>244</td>\n",
              "      <td>60.5</td>\n",
              "      <td>6.2</td>\n",
              "    </tr>\n",
              "    <tr>\n",
              "      <th>3</th>\n",
              "      <td>1400000US18097310105</td>\n",
              "      <td>18097310105</td>\n",
              "      <td>Census Tract 3101.05, Marion County, Indiana</td>\n",
              "      <td>3612</td>\n",
              "      <td>272</td>\n",
              "      <td>3612</td>\n",
              "      <td>(X)</td>\n",
              "      <td>1886</td>\n",
              "      <td>186</td>\n",
              "      <td>52.2</td>\n",
              "      <td>...</td>\n",
              "      <td>2546</td>\n",
              "      <td>(X)</td>\n",
              "      <td>1280</td>\n",
              "      <td>113</td>\n",
              "      <td>50.3</td>\n",
              "      <td>4.3</td>\n",
              "      <td>1266</td>\n",
              "      <td>158</td>\n",
              "      <td>49.7</td>\n",
              "      <td>4.3</td>\n",
              "    </tr>\n",
              "    <tr>\n",
              "      <th>4</th>\n",
              "      <td>1400000US18097310106</td>\n",
              "      <td>18097310106</td>\n",
              "      <td>Census Tract 3101.06, Marion County, Indiana</td>\n",
              "      <td>3871</td>\n",
              "      <td>489</td>\n",
              "      <td>3871</td>\n",
              "      <td>(X)</td>\n",
              "      <td>1802</td>\n",
              "      <td>327</td>\n",
              "      <td>46.6</td>\n",
              "      <td>...</td>\n",
              "      <td>3078</td>\n",
              "      <td>(X)</td>\n",
              "      <td>1267</td>\n",
              "      <td>234</td>\n",
              "      <td>41.2</td>\n",
              "      <td>5.6</td>\n",
              "      <td>1811</td>\n",
              "      <td>262</td>\n",
              "      <td>58.8</td>\n",
              "      <td>5.6</td>\n",
              "    </tr>\n",
              "  </tbody>\n",
              "</table>\n",
              "<p>5 rows × 339 columns</p>\n",
              "</div>"
            ],
            "text/plain": [
              "                 GEO.id      GEO.id2  \\\n",
              "0                    Id          Id2   \n",
              "1  1400000US18097310103  18097310103   \n",
              "2  1400000US18097310104  18097310104   \n",
              "3  1400000US18097310105  18097310105   \n",
              "4  1400000US18097310106  18097310106   \n",
              "\n",
              "                              GEO.display-label  \\\n",
              "0                                     Geography   \n",
              "1  Census Tract 3101.03, Marion County, Indiana   \n",
              "2  Census Tract 3101.04, Marion County, Indiana   \n",
              "3  Census Tract 3101.05, Marion County, Indiana   \n",
              "4  Census Tract 3101.06, Marion County, Indiana   \n",
              "\n",
              "                                  HC01_VC03  \\\n",
              "0  Estimate; SEX AND AGE - Total population   \n",
              "1                                      6700   \n",
              "2                                      3309   \n",
              "3                                      3612   \n",
              "4                                      3871   \n",
              "\n",
              "                                         HC02_VC03  \\\n",
              "0  Margin of Error; SEX AND AGE - Total population   \n",
              "1                                              435   \n",
              "2                                              283   \n",
              "3                                              272   \n",
              "4                                              489   \n",
              "\n",
              "                                 HC03_VC03  \\\n",
              "0  Percent; SEX AND AGE - Total population   \n",
              "1                                     6700   \n",
              "2                                     3309   \n",
              "3                                     3612   \n",
              "4                                     3871   \n",
              "\n",
              "                                           HC04_VC03  \\\n",
              "0  Percent Margin of Error; SEX AND AGE - Total p...   \n",
              "1                                                (X)   \n",
              "2                                                (X)   \n",
              "3                                                (X)   \n",
              "4                                                (X)   \n",
              "\n",
              "                                         HC01_VC04  \\\n",
              "0  Estimate; SEX AND AGE - Total population - Male   \n",
              "1                                             3167   \n",
              "2                                             1374   \n",
              "3                                             1886   \n",
              "4                                             1802   \n",
              "\n",
              "                                           HC02_VC04  \\\n",
              "0  Margin of Error; SEX AND AGE - Total populatio...   \n",
              "1                                                419   \n",
              "2                                                217   \n",
              "3                                                186   \n",
              "4                                                327   \n",
              "\n",
              "                                        HC03_VC04  \\\n",
              "0  Percent; SEX AND AGE - Total population - Male   \n",
              "1                                            47.3   \n",
              "2                                            41.5   \n",
              "3                                            52.2   \n",
              "4                                            46.6   \n",
              "\n",
              "                         ...                          \\\n",
              "0                        ...                           \n",
              "1                        ...                           \n",
              "2                        ...                           \n",
              "3                        ...                           \n",
              "4                        ...                           \n",
              "\n",
              "                                          HC03_VC108  \\\n",
              "0  Percent; CITIZEN, VOTING AGE POPULATION - Citi...   \n",
              "1                                               4881   \n",
              "2                                               2988   \n",
              "3                                               2546   \n",
              "4                                               3078   \n",
              "\n",
              "                                          HC04_VC108  \\\n",
              "0  Percent Margin of Error; CITIZEN, VOTING AGE P...   \n",
              "1                                                (X)   \n",
              "2                                                (X)   \n",
              "3                                                (X)   \n",
              "4                                                (X)   \n",
              "\n",
              "                                          HC01_VC109  \\\n",
              "0  Estimate; CITIZEN, VOTING AGE POPULATION - Cit...   \n",
              "1                                               2167   \n",
              "2                                               1179   \n",
              "3                                               1280   \n",
              "4                                               1267   \n",
              "\n",
              "                                          HC02_VC109  \\\n",
              "0  Margin of Error; CITIZEN, VOTING AGE POPULATIO...   \n",
              "1                                                208   \n",
              "2                                                194   \n",
              "3                                                113   \n",
              "4                                                234   \n",
              "\n",
              "                                          HC03_VC109  \\\n",
              "0  Percent; CITIZEN, VOTING AGE POPULATION - Citi...   \n",
              "1                                               44.4   \n",
              "2                                               39.5   \n",
              "3                                               50.3   \n",
              "4                                               41.2   \n",
              "\n",
              "                                          HC04_VC109  \\\n",
              "0  Percent Margin of Error; CITIZEN, VOTING AGE P...   \n",
              "1                                                3.3   \n",
              "2                                                6.2   \n",
              "3                                                4.3   \n",
              "4                                                5.6   \n",
              "\n",
              "                                          HC01_VC110  \\\n",
              "0  Estimate; CITIZEN, VOTING AGE POPULATION - Cit...   \n",
              "1                                               2714   \n",
              "2                                               1809   \n",
              "3                                               1266   \n",
              "4                                               1811   \n",
              "\n",
              "                                          HC02_VC110  \\\n",
              "0  Margin of Error; CITIZEN, VOTING AGE POPULATIO...   \n",
              "1                                                234   \n",
              "2                                                244   \n",
              "3                                                158   \n",
              "4                                                262   \n",
              "\n",
              "                                          HC03_VC110  \\\n",
              "0  Percent; CITIZEN, VOTING AGE POPULATION - Citi...   \n",
              "1                                               55.6   \n",
              "2                                               60.5   \n",
              "3                                               49.7   \n",
              "4                                               58.8   \n",
              "\n",
              "                                          HC04_VC110  \n",
              "0  Percent Margin of Error; CITIZEN, VOTING AGE P...  \n",
              "1                                                3.3  \n",
              "2                                                6.2  \n",
              "3                                                4.3  \n",
              "4                                                5.6  \n",
              "\n",
              "[5 rows x 339 columns]"
            ]
          },
          "metadata": {
            "tags": []
          },
          "execution_count": 7
        }
      ]
    },
    {
      "metadata": {
        "id": "TAsW4MYsb_1k",
        "colab_type": "code",
        "colab": {
          "base_uri": "https://localhost:8080/",
          "height": 204
        },
        "outputId": "fa57a04a-8fbf-4610-d29c-17314ccee742"
      },
      "cell_type": "code",
      "source": [
        "a_df = pd.read_csv(basepath + \"ACS_15_5YR_DP05_metadata.csv\")\n",
        "a_df.head()"
      ],
      "execution_count": 0,
      "outputs": [
        {
          "output_type": "execute_result",
          "data": {
            "text/html": [
              "<div>\n",
              "<style scoped>\n",
              "    .dataframe tbody tr th:only-of-type {\n",
              "        vertical-align: middle;\n",
              "    }\n",
              "\n",
              "    .dataframe tbody tr th {\n",
              "        vertical-align: top;\n",
              "    }\n",
              "\n",
              "    .dataframe thead th {\n",
              "        text-align: right;\n",
              "    }\n",
              "</style>\n",
              "<table border=\"1\" class=\"dataframe\">\n",
              "  <thead>\n",
              "    <tr style=\"text-align: right;\">\n",
              "      <th></th>\n",
              "      <th>GEO.id</th>\n",
              "      <th>Id</th>\n",
              "    </tr>\n",
              "  </thead>\n",
              "  <tbody>\n",
              "    <tr>\n",
              "      <th>0</th>\n",
              "      <td>GEO.id2</td>\n",
              "      <td>Id2</td>\n",
              "    </tr>\n",
              "    <tr>\n",
              "      <th>1</th>\n",
              "      <td>GEO.display-label</td>\n",
              "      <td>Geography</td>\n",
              "    </tr>\n",
              "    <tr>\n",
              "      <th>2</th>\n",
              "      <td>HC01_VC03</td>\n",
              "      <td>Estimate; SEX AND AGE - Total population</td>\n",
              "    </tr>\n",
              "    <tr>\n",
              "      <th>3</th>\n",
              "      <td>HC02_VC03</td>\n",
              "      <td>Margin of Error; SEX AND AGE - Total population</td>\n",
              "    </tr>\n",
              "    <tr>\n",
              "      <th>4</th>\n",
              "      <td>HC03_VC03</td>\n",
              "      <td>Percent; SEX AND AGE - Total population</td>\n",
              "    </tr>\n",
              "  </tbody>\n",
              "</table>\n",
              "</div>"
            ],
            "text/plain": [
              "              GEO.id                                               Id\n",
              "0            GEO.id2                                              Id2\n",
              "1  GEO.display-label                                        Geography\n",
              "2          HC01_VC03         Estimate; SEX AND AGE - Total population\n",
              "3          HC02_VC03  Margin of Error; SEX AND AGE - Total population\n",
              "4          HC03_VC03          Percent; SEX AND AGE - Total population"
            ]
          },
          "metadata": {
            "tags": []
          },
          "execution_count": 8
        }
      ]
    }
  ]
}