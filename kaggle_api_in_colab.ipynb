{
  "nbformat": 4,
  "nbformat_minor": 0,
  "metadata": {
    "colab": {
      "name": "How to use the Kaggle API from Colab",
      "version": "0.3.2",
      "provenance": [],
      "collapsed_sections": [],
      "toc_visible": true,
      "include_colab_link": true
    },
    "kernelspec": {
      "name": "python3",
      "display_name": "Python 3"
    }
  },
  "cells": [
    {
      "cell_type": "markdown",
      "metadata": {
        "id": "view-in-github",
        "colab_type": "text"
      },
      "source": [
        "[View in Colaboratory](https://colab.research.google.com/github/corrieann/kaggle/blob/master/kaggle_api_in_colab.ipynb)"
      ]
    },
    {
      "metadata": {
        "id": "DIf2PtekjPtY",
        "colab_type": "text"
      },
      "cell_type": "markdown",
      "source": [
        "# Installing the [Kaggle API](https://github.com/Kaggle/kaggle-api) in Colab"
      ]
    },
    {
      "metadata": {
        "id": "OppyMnCuWjzJ",
        "colab_type": "code",
        "colab": {}
      },
      "cell_type": "code",
      "source": [
        "!pip install kaggle"
      ],
      "execution_count": 0,
      "outputs": []
    },
    {
      "metadata": {
        "id": "hMY4CFezjcG-",
        "colab_type": "text"
      },
      "cell_type": "markdown",
      "source": [
        "# Authenticating with Kaggle using kaggle.json\n",
        "\n",
        "Navigate to https://www.kaggle.com. Then go to the Account tab of your user profile and select Create API Token. This will trigger the download of kaggle.json, a file containing your API credentials.\n",
        "\n",
        "Then run the cell below to upload kaggle.json to your Colab runtime."
      ]
    },
    {
      "metadata": {
        "id": "0HtGf0HEXEa5",
        "colab_type": "code",
        "colab": {
          "resources": {
            "http://localhost:8080/nbextensions/google.colab/files.js": {
              "data": "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",
              "ok": true,
              "headers": [
                [
                  "content-type",
                  "application/javascript"
                ]
              ],
              "status": 200,
              "status_text": ""
            }
          },
          "base_uri": "https://localhost:8080/",
          "height": 86
        },
        "outputId": "694ddda6-6216-4b6c-87be-b80514813cdc"
      },
      "cell_type": "code",
      "source": [
        "from google.colab import files\n",
        "\n",
        "uploaded = files.upload()\n",
        "\n",
        "for fn in uploaded.keys():\n",
        "  print('User uploaded file \"{name}\" with length {length} bytes'.format(\n",
        "      name=fn, length=len(uploaded[fn])))\n",
        "  \n",
        "# Then move kaggle.json into the folder where the API expects to find it.\n",
        "!mkdir -p ~/.kaggle/ && mv kaggle.json ~/.kaggle/ && chmod 600 ~/.kaggle/kaggle.json"
      ],
      "execution_count": 5,
      "outputs": [
        {
          "output_type": "display_data",
          "data": {
            "text/html": [
              "\n",
              "     <input type=\"file\" id=\"files-787ca035-fc9e-4247-8b65-e372c29ac02b\" name=\"files[]\" multiple disabled />\n",
              "     <output id=\"result-787ca035-fc9e-4247-8b65-e372c29ac02b\">\n",
              "      Upload widget is only available when the cell has been executed in the\n",
              "      current browser session. Please rerun this cell to enable.\n",
              "      </output>\n",
              "      <script src=\"/nbextensions/google.colab/files.js\"></script> "
            ],
            "text/plain": [
              "<IPython.core.display.HTML object>"
            ]
          },
          "metadata": {
            "tags": []
          }
        },
        {
          "output_type": "stream",
          "text": [
            "Saving kaggle.json to kaggle.json\n",
            "User uploaded file \"kaggle.json\" with length 68 bytes\n"
          ],
          "name": "stdout"
        }
      ]
    },
    {
      "metadata": {
        "id": "HMk7Zz4ZkpCe",
        "colab_type": "text"
      },
      "cell_type": "markdown",
      "source": [
        "# Using the Kaggle API\n",
        "\n",
        "For a more complete list of what you can do with the API, visit https://github.com/Kaggle/kaggle-api."
      ]
    },
    {
      "metadata": {
        "id": "SHVqmMXfilWG",
        "colab_type": "text"
      },
      "cell_type": "markdown",
      "source": [
        "## Listing competitions"
      ]
    },
    {
      "metadata": {
        "id": "Oqt7Yfi5aQuM",
        "colab_type": "code",
        "colab": {
          "base_uri": "https://localhost:8080/",
          "height": 411
        },
        "outputId": "8294ab79-2ef8-42eb-d317-807144aab3ff"
      },
      "cell_type": "code",
      "source": [
        "!kaggle competitions list"
      ],
      "execution_count": 6,
      "outputs": [
        {
          "output_type": "stream",
          "text": [
            "ref                                            deadline             category             reward  teamCount  userHasEntered  \n",
            "---------------------------------------------  -------------------  ---------------  ----------  ---------  --------------  \n",
            "digit-recognizer                               2030-01-01 00:00:00  Getting Started   Knowledge       2568           False  \n",
            "titanic                                        2030-01-01 00:00:00  Getting Started   Knowledge       9728            True  \n",
            "house-prices-advanced-regression-techniques    2030-01-01 00:00:00  Getting Started   Knowledge       4070           False  \n",
            "imagenet-object-localization-challenge         2029-12-31 07:00:00  Research          Knowledge         26           False  \n",
            "pubg-finish-placement-prediction               2019-01-30 23:59:00  Playground             Swag         53           False  \n",
            "zillow-prize-2                                 2019-01-16 06:59:00  Featured         $1,150,000         40           False  \n",
            "human-protein-atlas-image-classification       2019-01-10 23:59:00  Featured            $37,000         65           False  \n",
            "two-sigma-financial-news                       2019-01-08 23:59:00  Featured           $100,000        531           False  \n",
            "competitive-data-science-predict-future-sales  2019-01-01 23:59:00  Playground            Kudos       1532           False  \n",
            "PLAsTiCC-2018                                  2018-12-17 23:59:00  Featured            $25,000        137           False  \n",
            "quickdraw-doodle-recognition                   2018-12-04 23:59:00  Featured            $25,000        182           False  \n",
            "ga-customer-revenue-prediction                 2018-11-15 23:59:00  Featured            $45,000       2012           False  \n",
            "airbus-ship-detection                          2018-11-14 23:59:00  Featured            $60,000        956           False  \n",
            "inclusive-images-challenge                     2018-11-05 23:59:00  Research            $25,000        331           False  \n",
            "rsna-pneumonia-detection-challenge             2018-10-24 23:59:00  Featured            $30,000       1150           False  \n",
            "tgs-salt-identification-challenge              2018-10-19 23:59:00  Featured           $100,000       3047           False  \n",
            "new-york-city-taxi-fare-prediction             2018-09-25 23:59:00  Playground        Knowledge       1488           False  \n",
            "forest-cover-type-kernels-only                 2018-09-24 23:59:00  Playground        Knowledge        359           False  \n",
            "demand-forecasting-kernels-only                2018-09-24 23:59:00  Playground        Knowledge        462           False  \n",
            "whats-cooking-kernels-only                     2018-09-24 23:59:00  Playground        Knowledge        523           False  \n"
          ],
          "name": "stdout"
        }
      ]
    },
    {
      "metadata": {
        "id": "dNke00r6ig3h",
        "colab_type": "text"
      },
      "cell_type": "markdown",
      "source": [
        "## Downloading a dataset"
      ]
    },
    {
      "metadata": {
        "id": "Aojvqv8Gaf8I",
        "colab_type": "code",
        "colab": {}
      },
      "cell_type": "code",
      "source": [
        "!kaggle datasets download \"center-for-policing-equity/data-science-for-good\""
      ],
      "execution_count": 0,
      "outputs": []
    },
    {
      "metadata": {
        "id": "DsyV01gDaxls",
        "colab_type": "code",
        "colab": {}
      },
      "cell_type": "code",
      "source": [
        "!unzip data-science-for-good.zip"
      ],
      "execution_count": 0,
      "outputs": []
    },
    {
      "metadata": {
        "id": "L7ZmFbHybsPk",
        "colab_type": "code",
        "colab": {
          "base_uri": "https://localhost:8080/",
          "height": 491
        },
        "outputId": "f5fc68d7-a3e7-4a4e-9f61-10de044244b1"
      },
      "cell_type": "code",
      "source": [
        "import pandas as pd \n",
        "\n",
        "basepath = \"Dept_23-00089/23-00089_ACS_data/23-00089_ACS_race-sex-age/\"\n",
        "rca_df = pd.read_csv(basepath + \"ACS_15_5YR_DP05_with_ann.csv\")\n",
        "rca_df.head()"
      ],
      "execution_count": 0,
      "outputs": [
        {
          "output_type": "execute_result",
          "data": {
            "text/html": [
              "<div>\n",
              "<style scoped>\n",
              "    .dataframe tbody tr th:only-of-type {\n",
              "        vertical-align: middle;\n",
              "    }\n",
              "\n",
              "    .dataframe tbody tr th {\n",
              "        vertical-align: top;\n",
              "    }\n",
              "\n",
              "    .dataframe thead th {\n",
              "        text-align: right;\n",
              "    }\n",
              "</style>\n",
              "<table border=\"1\" class=\"dataframe\">\n",
              "  <thead>\n",
              "    <tr style=\"text-align: right;\">\n",
              "      <th></th>\n",
              "      <th>GEO.id</th>\n",
              "      <th>GEO.id2</th>\n",
              "      <th>GEO.display-label</th>\n",
              "      <th>HC01_VC03</th>\n",
              "      <th>HC02_VC03</th>\n",
              "      <th>HC03_VC03</th>\n",
              "      <th>HC04_VC03</th>\n",
              "      <th>HC01_VC04</th>\n",
              "      <th>HC02_VC04</th>\n",
              "      <th>HC03_VC04</th>\n",
              "      <th>...</th>\n",
              "      <th>HC03_VC108</th>\n",
              "      <th>HC04_VC108</th>\n",
              "      <th>HC01_VC109</th>\n",
              "      <th>HC02_VC109</th>\n",
              "      <th>HC03_VC109</th>\n",
              "      <th>HC04_VC109</th>\n",
              "      <th>HC01_VC110</th>\n",
              "      <th>HC02_VC110</th>\n",
              "      <th>HC03_VC110</th>\n",
              "      <th>HC04_VC110</th>\n",
              "    </tr>\n",
              "  </thead>\n",
              "  <tbody>\n",
              "    <tr>\n",
              "      <th>0</th>\n",
              "      <td>Id</td>\n",
              "      <td>Id2</td>\n",
              "      <td>Geography</td>\n",
              "      <td>Estimate; SEX AND AGE - Total population</td>\n",
              "      <td>Margin of Error; SEX AND AGE - Total population</td>\n",
              "      <td>Percent; SEX AND AGE - Total population</td>\n",
              "      <td>Percent Margin of Error; SEX AND AGE - Total p...</td>\n",
              "      <td>Estimate; SEX AND AGE - Total population - Male</td>\n",
              "      <td>Margin of Error; SEX AND AGE - Total populatio...</td>\n",
              "      <td>Percent; SEX AND AGE - Total population - Male</td>\n",
              "      <td>...</td>\n",
              "      <td>Percent; CITIZEN, VOTING AGE POPULATION - Citi...</td>\n",
              "      <td>Percent Margin of Error; CITIZEN, VOTING AGE P...</td>\n",
              "      <td>Estimate; CITIZEN, VOTING AGE POPULATION - Cit...</td>\n",
              "      <td>Margin of Error; CITIZEN, VOTING AGE POPULATIO...</td>\n",
              "      <td>Percent; CITIZEN, VOTING AGE POPULATION - Citi...</td>\n",
              "      <td>Percent Margin of Error; CITIZEN, VOTING AGE P...</td>\n",
              "      <td>Estimate; CITIZEN, VOTING AGE POPULATION - Cit...</td>\n",
              "      <td>Margin of Error; CITIZEN, VOTING AGE POPULATIO...</td>\n",
              "      <td>Percent; CITIZEN, VOTING AGE POPULATION - Citi...</td>\n",
              "      <td>Percent Margin of Error; CITIZEN, VOTING AGE P...</td>\n",
              "    </tr>\n",
              "    <tr>\n",
              "      <th>1</th>\n",
              "      <td>1400000US18097310103</td>\n",
              "      <td>18097310103</td>\n",
              "      <td>Census Tract 3101.03, Marion County, Indiana</td>\n",
              "      <td>6700</td>\n",
              "      <td>435</td>\n",
              "      <td>6700</td>\n",
              "      <td>(X)</td>\n",
              "      <td>3167</td>\n",
              "      <td>419</td>\n",
              "      <td>47.3</td>\n",
              "      <td>...</td>\n",
              "      <td>4881</td>\n",
              "      <td>(X)</td>\n",
              "      <td>2167</td>\n",
              "      <td>208</td>\n",
              "      <td>44.4</td>\n",
              "      <td>3.3</td>\n",
              "      <td>2714</td>\n",
              "      <td>234</td>\n",
              "      <td>55.6</td>\n",
              "      <td>3.3</td>\n",
              "    </tr>\n",
              "    <tr>\n",
              "      <th>2</th>\n",
              "      <td>1400000US18097310104</td>\n",
              "      <td>18097310104</td>\n",
              "      <td>Census Tract 3101.04, Marion County, Indiana</td>\n",
              "      <td>3309</td>\n",
              "      <td>283</td>\n",
              "      <td>3309</td>\n",
              "      <td>(X)</td>\n",
              "      <td>1374</td>\n",
              "      <td>217</td>\n",
              "      <td>41.5</td>\n",
              "      <td>...</td>\n",
              "      <td>2988</td>\n",
              "      <td>(X)</td>\n",
              "      <td>1179</td>\n",
              "      <td>194</td>\n",
              "      <td>39.5</td>\n",
              "      <td>6.2</td>\n",
              "      <td>1809</td>\n",
              "      <td>244</td>\n",
              "      <td>60.5</td>\n",
              "      <td>6.2</td>\n",
              "    </tr>\n",
              "    <tr>\n",
              "      <th>3</th>\n",
              "      <td>1400000US18097310105</td>\n",
              "      <td>18097310105</td>\n",
              "      <td>Census Tract 3101.05, Marion County, Indiana</td>\n",
              "      <td>3612</td>\n",
              "      <td>272</td>\n",
              "      <td>3612</td>\n",
              "      <td>(X)</td>\n",
              "      <td>1886</td>\n",
              "      <td>186</td>\n",
              "      <td>52.2</td>\n",
              "      <td>...</td>\n",
              "      <td>2546</td>\n",
              "      <td>(X)</td>\n",
              "      <td>1280</td>\n",
              "      <td>113</td>\n",
              "      <td>50.3</td>\n",
              "      <td>4.3</td>\n",
              "      <td>1266</td>\n",
              "      <td>158</td>\n",
              "      <td>49.7</td>\n",
              "      <td>4.3</td>\n",
              "    </tr>\n",
              "    <tr>\n",
              "      <th>4</th>\n",
              "      <td>1400000US18097310106</td>\n",
              "      <td>18097310106</td>\n",
              "      <td>Census Tract 3101.06, Marion County, Indiana</td>\n",
              "      <td>3871</td>\n",
              "      <td>489</td>\n",
              "      <td>3871</td>\n",
              "      <td>(X)</td>\n",
              "      <td>1802</td>\n",
              "      <td>327</td>\n",
              "      <td>46.6</td>\n",
              "      <td>...</td>\n",
              "      <td>3078</td>\n",
              "      <td>(X)</td>\n",
              "      <td>1267</td>\n",
              "      <td>234</td>\n",
              "      <td>41.2</td>\n",
              "      <td>5.6</td>\n",
              "      <td>1811</td>\n",
              "      <td>262</td>\n",
              "      <td>58.8</td>\n",
              "      <td>5.6</td>\n",
              "    </tr>\n",
              "  </tbody>\n",
              "</table>\n",
              "<p>5 rows × 339 columns</p>\n",
              "</div>"
            ],
            "text/plain": [
              "                 GEO.id      GEO.id2  \\\n",
              "0                    Id          Id2   \n",
              "1  1400000US18097310103  18097310103   \n",
              "2  1400000US18097310104  18097310104   \n",
              "3  1400000US18097310105  18097310105   \n",
              "4  1400000US18097310106  18097310106   \n",
              "\n",
              "                              GEO.display-label  \\\n",
              "0                                     Geography   \n",
              "1  Census Tract 3101.03, Marion County, Indiana   \n",
              "2  Census Tract 3101.04, Marion County, Indiana   \n",
              "3  Census Tract 3101.05, Marion County, Indiana   \n",
              "4  Census Tract 3101.06, Marion County, Indiana   \n",
              "\n",
              "                                  HC01_VC03  \\\n",
              "0  Estimate; SEX AND AGE - Total population   \n",
              "1                                      6700   \n",
              "2                                      3309   \n",
              "3                                      3612   \n",
              "4                                      3871   \n",
              "\n",
              "                                         HC02_VC03  \\\n",
              "0  Margin of Error; SEX AND AGE - Total population   \n",
              "1                                              435   \n",
              "2                                              283   \n",
              "3                                              272   \n",
              "4                                              489   \n",
              "\n",
              "                                 HC03_VC03  \\\n",
              "0  Percent; SEX AND AGE - Total population   \n",
              "1                                     6700   \n",
              "2                                     3309   \n",
              "3                                     3612   \n",
              "4                                     3871   \n",
              "\n",
              "                                           HC04_VC03  \\\n",
              "0  Percent Margin of Error; SEX AND AGE - Total p...   \n",
              "1                                                (X)   \n",
              "2                                                (X)   \n",
              "3                                                (X)   \n",
              "4                                                (X)   \n",
              "\n",
              "                                         HC01_VC04  \\\n",
              "0  Estimate; SEX AND AGE - Total population - Male   \n",
              "1                                             3167   \n",
              "2                                             1374   \n",
              "3                                             1886   \n",
              "4                                             1802   \n",
              "\n",
              "                                           HC02_VC04  \\\n",
              "0  Margin of Error; SEX AND AGE - Total populatio...   \n",
              "1                                                419   \n",
              "2                                                217   \n",
              "3                                                186   \n",
              "4                                                327   \n",
              "\n",
              "                                        HC03_VC04  \\\n",
              "0  Percent; SEX AND AGE - Total population - Male   \n",
              "1                                            47.3   \n",
              "2                                            41.5   \n",
              "3                                            52.2   \n",
              "4                                            46.6   \n",
              "\n",
              "                         ...                          \\\n",
              "0                        ...                           \n",
              "1                        ...                           \n",
              "2                        ...                           \n",
              "3                        ...                           \n",
              "4                        ...                           \n",
              "\n",
              "                                          HC03_VC108  \\\n",
              "0  Percent; CITIZEN, VOTING AGE POPULATION - Citi...   \n",
              "1                                               4881   \n",
              "2                                               2988   \n",
              "3                                               2546   \n",
              "4                                               3078   \n",
              "\n",
              "                                          HC04_VC108  \\\n",
              "0  Percent Margin of Error; CITIZEN, VOTING AGE P...   \n",
              "1                                                (X)   \n",
              "2                                                (X)   \n",
              "3                                                (X)   \n",
              "4                                                (X)   \n",
              "\n",
              "                                          HC01_VC109  \\\n",
              "0  Estimate; CITIZEN, VOTING AGE POPULATION - Cit...   \n",
              "1                                               2167   \n",
              "2                                               1179   \n",
              "3                                               1280   \n",
              "4                                               1267   \n",
              "\n",
              "                                          HC02_VC109  \\\n",
              "0  Margin of Error; CITIZEN, VOTING AGE POPULATIO...   \n",
              "1                                                208   \n",
              "2                                                194   \n",
              "3                                                113   \n",
              "4                                                234   \n",
              "\n",
              "                                          HC03_VC109  \\\n",
              "0  Percent; CITIZEN, VOTING AGE POPULATION - Citi...   \n",
              "1                                               44.4   \n",
              "2                                               39.5   \n",
              "3                                               50.3   \n",
              "4                                               41.2   \n",
              "\n",
              "                                          HC04_VC109  \\\n",
              "0  Percent Margin of Error; CITIZEN, VOTING AGE P...   \n",
              "1                                                3.3   \n",
              "2                                                6.2   \n",
              "3                                                4.3   \n",
              "4                                                5.6   \n",
              "\n",
              "                                          HC01_VC110  \\\n",
              "0  Estimate; CITIZEN, VOTING AGE POPULATION - Cit...   \n",
              "1                                               2714   \n",
              "2                                               1809   \n",
              "3                                               1266   \n",
              "4                                               1811   \n",
              "\n",
              "                                          HC02_VC110  \\\n",
              "0  Margin of Error; CITIZEN, VOTING AGE POPULATIO...   \n",
              "1                                                234   \n",
              "2                                                244   \n",
              "3                                                158   \n",
              "4                                                262   \n",
              "\n",
              "                                          HC03_VC110  \\\n",
              "0  Percent; CITIZEN, VOTING AGE POPULATION - Citi...   \n",
              "1                                               55.6   \n",
              "2                                               60.5   \n",
              "3                                               49.7   \n",
              "4                                               58.8   \n",
              "\n",
              "                                          HC04_VC110  \n",
              "0  Percent Margin of Error; CITIZEN, VOTING AGE P...  \n",
              "1                                                3.3  \n",
              "2                                                6.2  \n",
              "3                                                4.3  \n",
              "4                                                5.6  \n",
              "\n",
              "[5 rows x 339 columns]"
            ]
          },
          "metadata": {
            "tags": []
          },
          "execution_count": 7
        }
      ]
    },
    {
      "metadata": {
        "id": "TAsW4MYsb_1k",
        "colab_type": "code",
        "colab": {
          "base_uri": "https://localhost:8080/",
          "height": 204
        },
        "outputId": "fa57a04a-8fbf-4610-d29c-17314ccee742"
      },
      "cell_type": "code",
      "source": [
        "a_df = pd.read_csv(basepath + \"ACS_15_5YR_DP05_metadata.csv\")\n",
        "a_df.head()"
      ],
      "execution_count": 0,
      "outputs": [
        {
          "output_type": "execute_result",
          "data": {
            "text/html": [
              "<div>\n",
              "<style scoped>\n",
              "    .dataframe tbody tr th:only-of-type {\n",
              "        vertical-align: middle;\n",
              "    }\n",
              "\n",
              "    .dataframe tbody tr th {\n",
              "        vertical-align: top;\n",
              "    }\n",
              "\n",
              "    .dataframe thead th {\n",
              "        text-align: right;\n",
              "    }\n",
              "</style>\n",
              "<table border=\"1\" class=\"dataframe\">\n",
              "  <thead>\n",
              "    <tr style=\"text-align: right;\">\n",
              "      <th></th>\n",
              "      <th>GEO.id</th>\n",
              "      <th>Id</th>\n",
              "    </tr>\n",
              "  </thead>\n",
              "  <tbody>\n",
              "    <tr>\n",
              "      <th>0</th>\n",
              "      <td>GEO.id2</td>\n",
              "      <td>Id2</td>\n",
              "    </tr>\n",
              "    <tr>\n",
              "      <th>1</th>\n",
              "      <td>GEO.display-label</td>\n",
              "      <td>Geography</td>\n",
              "    </tr>\n",
              "    <tr>\n",
              "      <th>2</th>\n",
              "      <td>HC01_VC03</td>\n",
              "      <td>Estimate; SEX AND AGE - Total population</td>\n",
              "    </tr>\n",
              "    <tr>\n",
              "      <th>3</th>\n",
              "      <td>HC02_VC03</td>\n",
              "      <td>Margin of Error; SEX AND AGE - Total population</td>\n",
              "    </tr>\n",
              "    <tr>\n",
              "      <th>4</th>\n",
              "      <td>HC03_VC03</td>\n",
              "      <td>Percent; SEX AND AGE - Total population</td>\n",
              "    </tr>\n",
              "  </tbody>\n",
              "</table>\n",
              "</div>"
            ],
            "text/plain": [
              "              GEO.id                                               Id\n",
              "0            GEO.id2                                              Id2\n",
              "1  GEO.display-label                                        Geography\n",
              "2          HC01_VC03         Estimate; SEX AND AGE - Total population\n",
              "3          HC02_VC03  Margin of Error; SEX AND AGE - Total population\n",
              "4          HC03_VC03          Percent; SEX AND AGE - Total population"
            ]
          },
          "metadata": {
            "tags": []
          },
          "execution_count": 8
        }
      ]
    },
    {
      "metadata": {
        "id": "SxdB6P_ulkfa",
        "colab_type": "text"
      },
      "cell_type": "markdown",
      "source": [
        "## Uploading a Colab notebook to Kaggle Kernels\n",
        "\n",
        "Bear with us, as this is a little round-about..."
      ]
    },
    {
      "metadata": {
        "id": "o-NDs2dImDG0",
        "colab_type": "text"
      },
      "cell_type": "markdown",
      "source": [
        "### Downloading a notebook from Colab\n",
        "\n",
        "To download from Colab, use **File** | **Download .ipynb**"
      ]
    },
    {
      "metadata": {
        "id": "zUMAuin2mbbW",
        "colab_type": "text"
      },
      "cell_type": "markdown",
      "source": [
        "### Then upload the notebook to your Colab runtime"
      ]
    },
    {
      "metadata": {
        "id": "qox_MozfmF2Y",
        "colab_type": "code",
        "colab": {}
      },
      "cell_type": "code",
      "source": [
        "uploaded = files.upload()\n",
        "notebook_path = list(uploaded.keys())[0]"
      ],
      "execution_count": 0,
      "outputs": []
    },
    {
      "metadata": {
        "id": "7BT_rPcuoMsd",
        "colab_type": "code",
        "colab": {}
      },
      "cell_type": "code",
      "source": [
        "!mkdir -p export\n",
        "!mv $notebook_path export/\n",
        "!kaggle kernels init -p export"
      ],
      "execution_count": 0,
      "outputs": []
    },
    {
      "metadata": {
        "id": "Ls0Umf85q9UE",
        "colab_type": "code",
        "colab": {}
      },
      "cell_type": "code",
      "source": [
        "import re\n",
        "your_kaggle_username = 'Your kaggle username'\n",
        "notebook_title = 'New Kernel'\n",
        "new_kernel_slug = re.sub(r'[^a-z0-9]+', '-', notebook_title.lower())"
      ],
      "execution_count": 0,
      "outputs": []
    },
    {
      "metadata": {
        "id": "rp62OpkCo5D3",
        "colab_type": "code",
        "colab": {}
      },
      "cell_type": "code",
      "source": [
        "# Documented here: https://github.com/Kaggle/kaggle-api/wiki/Kernel-Metadata\n",
        "metadata = '''\n",
        "{\n",
        "  \"id\": \"%s/%s\",\n",
        "  \"title\": \"%s\",\n",
        "  \"code_file\": \"%s\",\n",
        "  \"language\": \"python\",\n",
        "  \"kernel_type\": \"notebook\",\n",
        "  \"is_private\": \"true\",\n",
        "  \"enable_gpu\": \"false\",\n",
        "  \"enable_internet\": \"true\",\n",
        "  \"dataset_sources\": [],\n",
        "  \"competition_sources\": [],\n",
        "  \"kernel_sources\": []\n",
        "}\n",
        "''' % (your_kaggle_username, new_kernel_slug, notebook_title, notebook_path)"
      ],
      "execution_count": 0,
      "outputs": []
    },
    {
      "metadata": {
        "id": "PyX-cbzIoj-V",
        "colab_type": "code",
        "colab": {}
      },
      "cell_type": "code",
      "source": [
        "!echo '$metadata' > export/kernel-metadata.json\n",
        "!cat export/kernel-metadata.json"
      ],
      "execution_count": 0,
      "outputs": []
    },
    {
      "metadata": {
        "id": "VDP5xJPklqYk",
        "colab_type": "code",
        "colab": {}
      },
      "cell_type": "code",
      "source": [
        "!kaggle kernels push -p export"
      ],
      "execution_count": 0,
      "outputs": []
    }
  ]
}